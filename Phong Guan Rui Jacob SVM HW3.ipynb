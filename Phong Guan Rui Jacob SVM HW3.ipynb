{
 "cells": [
  {
   "cell_type": "markdown",
   "metadata": {},
   "source": [
    "## Importing of libraries"
   ]
  },
  {
   "cell_type": "code",
   "execution_count": 1,
   "metadata": {},
   "outputs": [],
   "source": [
    "import numpy as np\n",
    "import pandas as pd\n",
    "from sklearn.model_selection import train_test_split, GridSearchCV\n",
    "from sklearn.preprocessing import StandardScaler, LabelEncoder\n",
    "from sklearn.svm import SVC\n",
    "from pandas import DataFrame\n",
    "from sklearn.metrics import precision_score, recall_score, accuracy_score, f1_score"
   ]
  },
  {
   "cell_type": "markdown",
   "metadata": {},
   "source": [
    "## Importing of the dataset and encoding the variable"
   ]
  },
  {
   "cell_type": "code",
   "execution_count": 2,
   "metadata": {},
   "outputs": [],
   "source": [
    "dataset = pd.read_csv('wdbc.data',header = None)\n",
    "x = dataset.iloc[ : , 2 : ].values\n",
    "y = dataset.iloc[: , 1].values\n",
    "le = LabelEncoder()\n",
    "y = le.fit_transform(y) ##Encoding the 'M' and 'B' to 1 and 0"
   ]
  },
  {
   "cell_type": "markdown",
   "metadata": {},
   "source": [
    "## Splitting the dataset into the Training Set and Test Set, applying feature scaling and training the SVM model. The average performance is computed after 20 times of running the SVM model."
   ]
  },
  {
   "cell_type": "code",
   "execution_count": 3,
   "metadata": {},
   "outputs": [],
   "source": [
    "sc = StandardScaler()\n",
    "\n",
    "\n"
   ]
  },
  {
   "cell_type": "code",
   "execution_count": 10,
   "metadata": {},
   "outputs": [],
   "source": [
    "Performance_Result = np.array([[]]).reshape(0,15)\n",
    "\n",
    "for i in range (0,20):\n",
    "    m = np.array([[]])\n",
    "    ##SVM 1 with Linear Kernel\n",
    "    x_train_1, x_test_1, y_train_1, y_test_1 = train_test_split(x, y, test_size = 0.3)\n",
    "    x_train_1 = sc.fit_transform(x_train_1)\n",
    "    x_test_1 = sc.transform(x_test_1)\n",
    "    classifier_1 = SVC(kernel = 'linear', random_state = 0)\n",
    "    classifier_1.fit(x_train_1, y_train_1)\n",
    "    x_pred_1 = classifier_1.predict(x_train_1)\n",
    "    y_pred_1 = classifier_1.predict(x_test_1)\n",
    "\n",
    "    m = np.append(m, [[accuracy_score(y_train_1,x_pred_1)]], axis = 1)\n",
    "    m = np.append(m, [[accuracy_score(y_test_1,y_pred_1)]], axis = 1)\n",
    "    m = np.append(m, [[precision_score(y_test_1,y_pred_1,average='weighted')]], axis = 1)\n",
    "    m = np.append(m, [[recall_score(y_test_1,y_pred_1,average='weighted')]], axis = 1)\n",
    "    m = np.append(m, [[f1_score(y_test_1,y_pred_1,average='weighted')]], axis = 1)\n",
    "\n",
    "    ## SVM 2 with RBF Kernel\n",
    "    x_train_2, x_test_2, y_train_2, y_test_2 = train_test_split(x, y, test_size = 0.3)\n",
    "    x_train_2 = sc.fit_transform(x_train_2)\n",
    "    x_test_2 = sc.transform(x_test_2)\n",
    "    classifier_2 = SVC(kernel = 'rbf', random_state = 0)\n",
    "    classifier_2.fit(x_train_2, y_train_2)\n",
    "    x_pred_2 = classifier_2.predict(x_train_2)    \n",
    "    y_pred_2 = classifier_2.predict(x_test_2)\n",
    "\n",
    "    m = np.append(m, [[accuracy_score(y_train_2,x_pred_2)]], axis = 1)\n",
    "    m = np.append(m, [[accuracy_score(y_test_2,y_pred_2)]], axis = 1)\n",
    "    m = np.append(m, [[precision_score(y_test_2,y_pred_2,average='weighted')]], axis = 1)\n",
    "    m = np.append(m, [[recall_score(y_test_2,y_pred_2,average='weighted')]], axis = 1)\n",
    "    m = np.append(m, [[f1_score(y_test_2,y_pred_2,average='weighted')]], axis = 1)\n",
    "\n",
    "\n",
    "    ## SVM 3 with RBF Kernel and Varying C parameter\n",
    "    x_train_3, x_test_3, y_train_3, y_test_3 = train_test_split(x, y, test_size = 0.3)\n",
    "    x_train_3 = sc.fit_transform(x_train_3)\n",
    "    x_test_3 = sc.transform(x_test_3)\n",
    "    #classifier_3 = SVC(kernel = 'rbf', random_state = 0)\n",
    "    classifier_3 = SVC(C = 4.8, kernel = 'rbf', gamma = 0.015, random_state = 0)\n",
    "    classifier_3.fit(x_train_3, y_train_3)\n",
    "    x_pred_3 = classifier_3.predict(x_train_3)\n",
    "    y_pred_3 = classifier_3.predict(x_test_3)\n",
    "\n",
    "    m = np.append(m, [[accuracy_score(y_train_3,x_pred_3)]], axis = 1)\n",
    "    m = np.append(m, [[accuracy_score(y_test_3,y_pred_3)]], axis = 1)\n",
    "    m = np.append(m, [[precision_score(y_test_3,y_pred_3,average='weighted')]], axis = 1)\n",
    "    m = np.append(m, [[recall_score(y_test_3,y_pred_3,average='weighted')]], axis = 1)\n",
    "    m = np.append(m, [[f1_score(y_test_3,y_pred_3,average='weighted')]], axis = 1)\n",
    "    Performance_Result = np.concatenate((Performance_Result,m),axis=0)\n",
    "\n"
   ]
  },
  {
   "cell_type": "code",
   "execution_count": 11,
   "metadata": {},
   "outputs": [
    {
     "data": {
      "text/html": [
       "<div>\n",
       "<style scoped>\n",
       "    .dataframe tbody tr th:only-of-type {\n",
       "        vertical-align: middle;\n",
       "    }\n",
       "\n",
       "    .dataframe tbody tr th {\n",
       "        vertical-align: top;\n",
       "    }\n",
       "\n",
       "    .dataframe thead th {\n",
       "        text-align: right;\n",
       "    }\n",
       "</style>\n",
       "<table border=\"1\" class=\"dataframe\">\n",
       "  <thead>\n",
       "    <tr style=\"text-align: right;\">\n",
       "      <th></th>\n",
       "      <th>Training</th>\n",
       "      <th>Test</th>\n",
       "      <th>Precision</th>\n",
       "      <th>Recall</th>\n",
       "      <th>F1 scores</th>\n",
       "    </tr>\n",
       "  </thead>\n",
       "  <tbody>\n",
       "    <tr>\n",
       "      <th>SVM 1</th>\n",
       "      <td>0.988568</td>\n",
       "      <td>0.970760</td>\n",
       "      <td>0.971168</td>\n",
       "      <td>0.970760</td>\n",
       "      <td>0.970645</td>\n",
       "    </tr>\n",
       "    <tr>\n",
       "      <th>SVM 2</th>\n",
       "      <td>0.986558</td>\n",
       "      <td>0.975731</td>\n",
       "      <td>0.976074</td>\n",
       "      <td>0.975731</td>\n",
       "      <td>0.975702</td>\n",
       "    </tr>\n",
       "    <tr>\n",
       "      <th>SVM 3</th>\n",
       "      <td>0.988065</td>\n",
       "      <td>0.979240</td>\n",
       "      <td>0.979408</td>\n",
       "      <td>0.979240</td>\n",
       "      <td>0.979175</td>\n",
       "    </tr>\n",
       "  </tbody>\n",
       "</table>\n",
       "</div>"
      ],
      "text/plain": [
       "       Training      Test  Precision    Recall  F1 scores\n",
       "SVM 1  0.988568  0.970760   0.971168  0.970760   0.970645\n",
       "SVM 2  0.986558  0.975731   0.976074  0.975731   0.975702\n",
       "SVM 3  0.988065  0.979240   0.979408  0.979240   0.979175"
      ]
     },
     "execution_count": 11,
     "metadata": {},
     "output_type": "execute_result"
    }
   ],
   "source": [
    "df = pd.DataFrame([Performance_Result.mean(axis = 0)[0 : 5],Performance_Result.mean(axis = 0)[5 : 10], Performance_Result.mean(axis = 0)[10:15]],\n",
    "                  index = ['SVM 1','SVM 2','SVM 3'], columns = ['Training','Test','Precision','Recall','F1 scores'])\n",
    "df"
   ]
  },
  {
   "cell_type": "code",
   "execution_count": null,
   "metadata": {},
   "outputs": [],
   "source": []
  }
 ],
 "metadata": {
  "kernelspec": {
   "display_name": "Python 3",
   "language": "python",
   "name": "python3"
  },
  "language_info": {
   "codemirror_mode": {
    "name": "ipython",
    "version": 3
   },
   "file_extension": ".py",
   "mimetype": "text/x-python",
   "name": "python",
   "nbconvert_exporter": "python",
   "pygments_lexer": "ipython3",
   "version": "3.8.3"
  }
 },
 "nbformat": 4,
 "nbformat_minor": 4
}
